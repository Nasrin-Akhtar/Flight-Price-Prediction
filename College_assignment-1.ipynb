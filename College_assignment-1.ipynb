{
 "cells": [
  {
   "cell_type": "markdown",
   "id": "39322a67",
   "metadata": {},
   "source": [
    "# NAME: NASRIN AKHTAR\n",
    "SECTION B\n",
    "DEPARTMENT OF OPERATIONAL RESEARCH"
   ]
  },
  {
   "cell_type": "code",
   "execution_count": 1,
   "id": "d1076e91",
   "metadata": {},
   "outputs": [
    {
     "name": "stdout",
     "output_type": "stream",
     "text": [
      "your name\tNISHA\n",
      "Hello, NISHA\n"
     ]
    }
   ],
   "source": [
    "name =input('your name\\t')\n",
    "print(\"Hello,\",name)\n"
   ]
  },
  {
   "cell_type": "code",
   "execution_count": 26,
   "id": "cd12e0e1",
   "metadata": {},
   "outputs": [
    {
     "name": "stdout",
     "output_type": "stream",
     "text": [
      "Enter first numbers\t56\n",
      "Enter second numbers\t7\n",
      "Addition: 63 \n",
      "subtraction: 49 \n",
      "Product: 392 \n",
      "division: 8.0 \n",
      "devivent: 8 \n",
      "remainder: 0\n"
     ]
    }
   ],
   "source": [
    "num1=int(input(\"Enter first numbers\\t\"))\n",
    "num2=int(input(\"Enter second numbers\\t\"))\n",
    "def operators(num1,num2):\n",
    "    add=num1+num2\n",
    "    subtract=num1-num2\n",
    "    product=num1*num2\n",
    "    div=num1/num2\n",
    "    dev=num1//num2\n",
    "    rem=num1%num2\n",
    "    print('Addition:',add,'\\nsubtraction:',subtract,'\\nProduct:',product,'\\ndivision:',div,'\\ndevivent:',dev,'\\nremainder:',rem)\n",
    "operators(num1,num2)    \n",
    "    \n"
   ]
  },
  {
   "cell_type": "code",
   "execution_count": null,
   "id": "94adc845",
   "metadata": {},
   "outputs": [],
   "source": []
  },
  {
   "cell_type": "code",
   "execution_count": 7,
   "id": "8ad37de3",
   "metadata": {},
   "outputs": [
    {
     "name": "stdout",
     "output_type": "stream",
     "text": [
      "Enter your preference: 1\n",
      "Enter the number of your choice: 65\n",
      "Sum of the digits: 11 \n",
      "Reversed number: 56\n"
     ]
    }
   ],
   "source": [
    "choice=int(input('Enter your preference: '))\n",
    "num=int(input('Enter the number of your choice: '))\n",
    "def rev(num):\n",
    "    sum=0\n",
    "    reverse_num=0\n",
    "    while num>0:\n",
    "        remainder=num%10\n",
    "        reverse_num=reverse_num*10+remainder\n",
    "        num=num//10 \n",
    "        sum+=remainder\n",
    "    print('Sum of the digits:',sum,'\\nReversed number:',reverse_num)\n",
    "if choice==1:\n",
    "    rev(num)\n",
    "else:\n",
    "    print('INVALID')\n",
    "\n",
    "    \n",
    "    "
   ]
  },
  {
   "cell_type": "code",
   "execution_count": null,
   "id": "697d29ba",
   "metadata": {},
   "outputs": [],
   "source": []
  },
  {
   "cell_type": "code",
   "execution_count": null,
   "id": "58e741d9",
   "metadata": {},
   "outputs": [],
   "source": []
  }
 ],
 "metadata": {
  "kernelspec": {
   "display_name": "Python 3 (ipykernel)",
   "language": "python",
   "name": "python3"
  },
  "language_info": {
   "codemirror_mode": {
    "name": "ipython",
    "version": 3
   },
   "file_extension": ".py",
   "mimetype": "text/x-python",
   "name": "python",
   "nbconvert_exporter": "python",
   "pygments_lexer": "ipython3",
   "version": "3.8.7"
  }
 },
 "nbformat": 4,
 "nbformat_minor": 5
}
